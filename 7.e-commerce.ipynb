{
 "cells": [
  {
   "cell_type": "code",
   "execution_count": 1,
   "id": "6f082b18-c787-4d50-8130-2de5d8bf56cb",
   "metadata": {},
   "outputs": [],
   "source": [
    "import pandas as pd\n",
    "import numpy as np"
   ]
  },
  {
   "cell_type": "code",
   "execution_count": 2,
   "id": "50f0d594-c197-461f-b2c6-9a92db39b17c",
   "metadata": {},
   "outputs": [
    {
     "data": {
      "text/html": [
       "<div>\n",
       "<style scoped>\n",
       "    .dataframe tbody tr th:only-of-type {\n",
       "        vertical-align: middle;\n",
       "    }\n",
       "\n",
       "    .dataframe tbody tr th {\n",
       "        vertical-align: top;\n",
       "    }\n",
       "\n",
       "    .dataframe thead th {\n",
       "        text-align: right;\n",
       "    }\n",
       "</style>\n",
       "<table border=\"1\" class=\"dataframe\">\n",
       "  <thead>\n",
       "    <tr style=\"text-align: right;\">\n",
       "      <th></th>\n",
       "      <th>Unnamed: 0</th>\n",
       "      <th>Customer_Id</th>\n",
       "      <th>First_Name</th>\n",
       "      <th>Last_Name</th>\n",
       "      <th>Email</th>\n",
       "      <th>Phone</th>\n",
       "      <th>Address</th>\n",
       "      <th>City</th>\n",
       "      <th>Country</th>\n",
       "      <th>Registration_Date</th>\n",
       "    </tr>\n",
       "  </thead>\n",
       "  <tbody>\n",
       "    <tr>\n",
       "      <th>0</th>\n",
       "      <td>NaN</td>\n",
       "      <td>C001</td>\n",
       "      <td>Ali</td>\n",
       "      <td>??</td>\n",
       "      <td>user1@mail.com</td>\n",
       "      <td>+20112345</td>\n",
       "      <td>1 Main St</td>\n",
       "      <td>123City</td>\n",
       "      <td>NaN</td>\n",
       "      <td>2024-01-15</td>\n",
       "    </tr>\n",
       "    <tr>\n",
       "      <th>1</th>\n",
       "      <td>NaN</td>\n",
       "      <td>C002</td>\n",
       "      <td>??</td>\n",
       "      <td>NaN</td>\n",
       "      <td>user2@mail.com</td>\n",
       "      <td>+20212345</td>\n",
       "      <td>2 Main St</td>\n",
       "      <td>Paris</td>\n",
       "      <td>Japan</td>\n",
       "      <td>2024-05-12</td>\n",
       "    </tr>\n",
       "    <tr>\n",
       "      <th>2</th>\n",
       "      <td>NaN</td>\n",
       "      <td>C003</td>\n",
       "      <td></td>\n",
       "      <td>??</td>\n",
       "      <td>user3@mail.com</td>\n",
       "      <td>+20312345</td>\n",
       "      <td>3 Main St</td>\n",
       "      <td>NYC</td>\n",
       "      <td>??</td>\n",
       "      <td>2024-02-28</td>\n",
       "    </tr>\n",
       "    <tr>\n",
       "      <th>3</th>\n",
       "      <td>NaN</td>\n",
       "      <td>C004</td>\n",
       "      <td>Omar</td>\n",
       "      <td>??</td>\n",
       "      <td>user4@mail.com</td>\n",
       "      <td>+20412345</td>\n",
       "      <td>4 Main St</td>\n",
       "      <td>NYC</td>\n",
       "      <td>France</td>\n",
       "      <td>2024-01-15</td>\n",
       "    </tr>\n",
       "    <tr>\n",
       "      <th>4</th>\n",
       "      <td>NaN</td>\n",
       "      <td>C005</td>\n",
       "      <td>Sara</td>\n",
       "      <td>Moh#med</td>\n",
       "      <td>user5@mail.com</td>\n",
       "      <td>+20512345</td>\n",
       "      <td>5 Main St</td>\n",
       "      <td>NYC</td>\n",
       "      <td>France</td>\n",
       "      <td>NaN</td>\n",
       "    </tr>\n",
       "    <tr>\n",
       "      <th>...</th>\n",
       "      <td>...</td>\n",
       "      <td>...</td>\n",
       "      <td>...</td>\n",
       "      <td>...</td>\n",
       "      <td>...</td>\n",
       "      <td>...</td>\n",
       "      <td>...</td>\n",
       "      <td>...</td>\n",
       "      <td>...</td>\n",
       "      <td>...</td>\n",
       "    </tr>\n",
       "    <tr>\n",
       "      <th>95</th>\n",
       "      <td>NaN</td>\n",
       "      <td>C096</td>\n",
       "      <td></td>\n",
       "      <td></td>\n",
       "      <td>@mail.com</td>\n",
       "      <td>+209612345</td>\n",
       "      <td>96 Main St</td>\n",
       "      <td>@@Town</td>\n",
       "      <td>Egypt</td>\n",
       "      <td>2024-05-12</td>\n",
       "    </tr>\n",
       "    <tr>\n",
       "      <th>96</th>\n",
       "      <td>NaN</td>\n",
       "      <td>C097</td>\n",
       "      <td>NaN</td>\n",
       "      <td>Liu</td>\n",
       "      <td>user97@mail.com</td>\n",
       "      <td>+209712345</td>\n",
       "      <td>97 Main St</td>\n",
       "      <td>NYC</td>\n",
       "      <td>NaN</td>\n",
       "      <td>2024-02-28</td>\n",
       "    </tr>\n",
       "    <tr>\n",
       "      <th>97</th>\n",
       "      <td>NaN</td>\n",
       "      <td>C098</td>\n",
       "      <td>NaN</td>\n",
       "      <td>Sara</td>\n",
       "      <td>user98@mail.com</td>\n",
       "      <td>NaN</td>\n",
       "      <td>98 Main St</td>\n",
       "      <td>@@Town</td>\n",
       "      <td>??</td>\n",
       "      <td>2024-05-12</td>\n",
       "    </tr>\n",
       "    <tr>\n",
       "      <th>98</th>\n",
       "      <td>NaN</td>\n",
       "      <td>C099</td>\n",
       "      <td>Sara</td>\n",
       "      <td>John</td>\n",
       "      <td>user99@mail.com</td>\n",
       "      <td>+209912345</td>\n",
       "      <td>99 Main St</td>\n",
       "      <td>London</td>\n",
       "      <td>UK</td>\n",
       "      <td>15-01-2025</td>\n",
       "    </tr>\n",
       "    <tr>\n",
       "      <th>99</th>\n",
       "      <td>NaN</td>\n",
       "      <td>C100</td>\n",
       "      <td>Liu</td>\n",
       "      <td>Moh#med</td>\n",
       "      <td>user100@mail.com</td>\n",
       "      <td>+2010012345</td>\n",
       "      <td>POBox###</td>\n",
       "      <td>London</td>\n",
       "      <td>USA</td>\n",
       "      <td>2024/12/05</td>\n",
       "    </tr>\n",
       "  </tbody>\n",
       "</table>\n",
       "<p>100 rows × 10 columns</p>\n",
       "</div>"
      ],
      "text/plain": [
       "    Unnamed: 0 Customer_Id First_Name Last_Name             Email  \\\n",
       "0          NaN        C001        Ali        ??    user1@mail.com   \n",
       "1          NaN        C002         ??       NaN    user2@mail.com   \n",
       "2          NaN        C003                   ??    user3@mail.com   \n",
       "3          NaN        C004       Omar        ??    user4@mail.com   \n",
       "4          NaN        C005       Sara   Moh#med    user5@mail.com   \n",
       "..         ...         ...        ...       ...               ...   \n",
       "95         NaN        C096                              @mail.com   \n",
       "96         NaN        C097        NaN       Liu   user97@mail.com   \n",
       "97         NaN        C098        NaN      Sara   user98@mail.com   \n",
       "98         NaN        C099       Sara      John   user99@mail.com   \n",
       "99         NaN        C100        Liu   Moh#med  user100@mail.com   \n",
       "\n",
       "          Phone     Address     City Country Registration_Date  \n",
       "0     +20112345   1 Main St  123City     NaN        2024-01-15  \n",
       "1     +20212345   2 Main St    Paris   Japan        2024-05-12  \n",
       "2     +20312345   3 Main St      NYC      ??        2024-02-28  \n",
       "3     +20412345   4 Main St      NYC  France        2024-01-15  \n",
       "4     +20512345   5 Main St      NYC  France               NaN  \n",
       "..          ...         ...      ...     ...               ...  \n",
       "95   +209612345  96 Main St   @@Town   Egypt        2024-05-12  \n",
       "96   +209712345  97 Main St      NYC     NaN        2024-02-28  \n",
       "97          NaN  98 Main St   @@Town      ??        2024-05-12  \n",
       "98   +209912345  99 Main St   London      UK        15-01-2025  \n",
       "99  +2010012345    POBox###   London     USA        2024/12/05  \n",
       "\n",
       "[100 rows x 10 columns]"
      ]
     },
     "execution_count": 2,
     "metadata": {},
     "output_type": "execute_result"
    }
   ],
   "source": [
    "df = pd.read_excel(r\"D:\\NTI\\final_project\\E_commerce.xlsx\", sheet_name = \"Customers\",header=4)\n",
    "df"
   ]
  },
  {
   "cell_type": "markdown",
   "id": "39c9fa13-6b7a-4008-890e-4d4f1de2e3de",
   "metadata": {},
   "source": [
    "## understand the data"
   ]
  },
  {
   "cell_type": "code",
   "execution_count": 4,
   "id": "7393f70f-b005-40f3-8965-3cc8e4fd8e9c",
   "metadata": {},
   "outputs": [
    {
     "data": {
      "text/plain": [
       "(100, 10)"
      ]
     },
     "execution_count": 4,
     "metadata": {},
     "output_type": "execute_result"
    }
   ],
   "source": [
    "df.shape"
   ]
  },
  {
   "cell_type": "code",
   "execution_count": 5,
   "id": "c66a9f54-6602-4823-863c-bcc375544b68",
   "metadata": {},
   "outputs": [
    {
     "data": {
      "text/html": [
       "<div>\n",
       "<style scoped>\n",
       "    .dataframe tbody tr th:only-of-type {\n",
       "        vertical-align: middle;\n",
       "    }\n",
       "\n",
       "    .dataframe tbody tr th {\n",
       "        vertical-align: top;\n",
       "    }\n",
       "\n",
       "    .dataframe thead th {\n",
       "        text-align: right;\n",
       "    }\n",
       "</style>\n",
       "<table border=\"1\" class=\"dataframe\">\n",
       "  <thead>\n",
       "    <tr style=\"text-align: right;\">\n",
       "      <th></th>\n",
       "      <th>Unnamed: 0</th>\n",
       "      <th>Customer_Id</th>\n",
       "      <th>First_Name</th>\n",
       "      <th>Last_Name</th>\n",
       "      <th>Email</th>\n",
       "      <th>Phone</th>\n",
       "      <th>Address</th>\n",
       "      <th>City</th>\n",
       "      <th>Country</th>\n",
       "      <th>Registration_Date</th>\n",
       "    </tr>\n",
       "  </thead>\n",
       "  <tbody>\n",
       "    <tr>\n",
       "      <th>0</th>\n",
       "      <td>NaN</td>\n",
       "      <td>C001</td>\n",
       "      <td>Ali</td>\n",
       "      <td>??</td>\n",
       "      <td>user1@mail.com</td>\n",
       "      <td>+20112345</td>\n",
       "      <td>1 Main St</td>\n",
       "      <td>123City</td>\n",
       "      <td>NaN</td>\n",
       "      <td>2024-01-15</td>\n",
       "    </tr>\n",
       "    <tr>\n",
       "      <th>1</th>\n",
       "      <td>NaN</td>\n",
       "      <td>C002</td>\n",
       "      <td>??</td>\n",
       "      <td>NaN</td>\n",
       "      <td>user2@mail.com</td>\n",
       "      <td>+20212345</td>\n",
       "      <td>2 Main St</td>\n",
       "      <td>Paris</td>\n",
       "      <td>Japan</td>\n",
       "      <td>2024-05-12</td>\n",
       "    </tr>\n",
       "    <tr>\n",
       "      <th>2</th>\n",
       "      <td>NaN</td>\n",
       "      <td>C003</td>\n",
       "      <td></td>\n",
       "      <td>??</td>\n",
       "      <td>user3@mail.com</td>\n",
       "      <td>+20312345</td>\n",
       "      <td>3 Main St</td>\n",
       "      <td>NYC</td>\n",
       "      <td>??</td>\n",
       "      <td>2024-02-28</td>\n",
       "    </tr>\n",
       "    <tr>\n",
       "      <th>3</th>\n",
       "      <td>NaN</td>\n",
       "      <td>C004</td>\n",
       "      <td>Omar</td>\n",
       "      <td>??</td>\n",
       "      <td>user4@mail.com</td>\n",
       "      <td>+20412345</td>\n",
       "      <td>4 Main St</td>\n",
       "      <td>NYC</td>\n",
       "      <td>France</td>\n",
       "      <td>2024-01-15</td>\n",
       "    </tr>\n",
       "    <tr>\n",
       "      <th>4</th>\n",
       "      <td>NaN</td>\n",
       "      <td>C005</td>\n",
       "      <td>Sara</td>\n",
       "      <td>Moh#med</td>\n",
       "      <td>user5@mail.com</td>\n",
       "      <td>+20512345</td>\n",
       "      <td>5 Main St</td>\n",
       "      <td>NYC</td>\n",
       "      <td>France</td>\n",
       "      <td>NaN</td>\n",
       "    </tr>\n",
       "  </tbody>\n",
       "</table>\n",
       "</div>"
      ],
      "text/plain": [
       "   Unnamed: 0 Customer_Id First_Name Last_Name           Email      Phone  \\\n",
       "0         NaN        C001        Ali        ??  user1@mail.com  +20112345   \n",
       "1         NaN        C002         ??       NaN  user2@mail.com  +20212345   \n",
       "2         NaN        C003                   ??  user3@mail.com  +20312345   \n",
       "3         NaN        C004       Omar        ??  user4@mail.com  +20412345   \n",
       "4         NaN        C005       Sara   Moh#med  user5@mail.com  +20512345   \n",
       "\n",
       "     Address     City Country Registration_Date  \n",
       "0  1 Main St  123City     NaN        2024-01-15  \n",
       "1  2 Main St    Paris   Japan        2024-05-12  \n",
       "2  3 Main St      NYC      ??        2024-02-28  \n",
       "3  4 Main St      NYC  France        2024-01-15  \n",
       "4  5 Main St      NYC  France               NaN  "
      ]
     },
     "execution_count": 5,
     "metadata": {},
     "output_type": "execute_result"
    }
   ],
   "source": [
    "df.head()"
   ]
  },
  {
   "cell_type": "code",
   "execution_count": 6,
   "id": "8ab108d7-b2c0-4388-b132-bd6221b6a241",
   "metadata": {},
   "outputs": [],
   "source": [
    "df.drop('Unnamed: 0',axis=1,inplace=True)"
   ]
  },
  {
   "cell_type": "code",
   "execution_count": 7,
   "id": "7bab36c4-11a6-49e7-a223-d890ccac80fe",
   "metadata": {},
   "outputs": [
    {
     "data": {
      "text/html": [
       "<div>\n",
       "<style scoped>\n",
       "    .dataframe tbody tr th:only-of-type {\n",
       "        vertical-align: middle;\n",
       "    }\n",
       "\n",
       "    .dataframe tbody tr th {\n",
       "        vertical-align: top;\n",
       "    }\n",
       "\n",
       "    .dataframe thead th {\n",
       "        text-align: right;\n",
       "    }\n",
       "</style>\n",
       "<table border=\"1\" class=\"dataframe\">\n",
       "  <thead>\n",
       "    <tr style=\"text-align: right;\">\n",
       "      <th></th>\n",
       "      <th>Customer_Id</th>\n",
       "      <th>First_Name</th>\n",
       "      <th>Last_Name</th>\n",
       "      <th>Email</th>\n",
       "      <th>Phone</th>\n",
       "      <th>Address</th>\n",
       "      <th>City</th>\n",
       "      <th>Country</th>\n",
       "      <th>Registration_Date</th>\n",
       "    </tr>\n",
       "  </thead>\n",
       "  <tbody>\n",
       "    <tr>\n",
       "      <th>0</th>\n",
       "      <td>C001</td>\n",
       "      <td>Ali</td>\n",
       "      <td>??</td>\n",
       "      <td>user1@mail.com</td>\n",
       "      <td>+20112345</td>\n",
       "      <td>1 Main St</td>\n",
       "      <td>123City</td>\n",
       "      <td>NaN</td>\n",
       "      <td>2024-01-15</td>\n",
       "    </tr>\n",
       "    <tr>\n",
       "      <th>1</th>\n",
       "      <td>C002</td>\n",
       "      <td>??</td>\n",
       "      <td>NaN</td>\n",
       "      <td>user2@mail.com</td>\n",
       "      <td>+20212345</td>\n",
       "      <td>2 Main St</td>\n",
       "      <td>Paris</td>\n",
       "      <td>Japan</td>\n",
       "      <td>2024-05-12</td>\n",
       "    </tr>\n",
       "    <tr>\n",
       "      <th>2</th>\n",
       "      <td>C003</td>\n",
       "      <td></td>\n",
       "      <td>??</td>\n",
       "      <td>user3@mail.com</td>\n",
       "      <td>+20312345</td>\n",
       "      <td>3 Main St</td>\n",
       "      <td>NYC</td>\n",
       "      <td>??</td>\n",
       "      <td>2024-02-28</td>\n",
       "    </tr>\n",
       "    <tr>\n",
       "      <th>3</th>\n",
       "      <td>C004</td>\n",
       "      <td>Omar</td>\n",
       "      <td>??</td>\n",
       "      <td>user4@mail.com</td>\n",
       "      <td>+20412345</td>\n",
       "      <td>4 Main St</td>\n",
       "      <td>NYC</td>\n",
       "      <td>France</td>\n",
       "      <td>2024-01-15</td>\n",
       "    </tr>\n",
       "    <tr>\n",
       "      <th>4</th>\n",
       "      <td>C005</td>\n",
       "      <td>Sara</td>\n",
       "      <td>Moh#med</td>\n",
       "      <td>user5@mail.com</td>\n",
       "      <td>+20512345</td>\n",
       "      <td>5 Main St</td>\n",
       "      <td>NYC</td>\n",
       "      <td>France</td>\n",
       "      <td>NaN</td>\n",
       "    </tr>\n",
       "  </tbody>\n",
       "</table>\n",
       "</div>"
      ],
      "text/plain": [
       "  Customer_Id First_Name Last_Name           Email      Phone    Address  \\\n",
       "0        C001        Ali        ??  user1@mail.com  +20112345  1 Main St   \n",
       "1        C002         ??       NaN  user2@mail.com  +20212345  2 Main St   \n",
       "2        C003                   ??  user3@mail.com  +20312345  3 Main St   \n",
       "3        C004       Omar        ??  user4@mail.com  +20412345  4 Main St   \n",
       "4        C005       Sara   Moh#med  user5@mail.com  +20512345  5 Main St   \n",
       "\n",
       "      City Country Registration_Date  \n",
       "0  123City     NaN        2024-01-15  \n",
       "1    Paris   Japan        2024-05-12  \n",
       "2      NYC      ??        2024-02-28  \n",
       "3      NYC  France        2024-01-15  \n",
       "4      NYC  France               NaN  "
      ]
     },
     "execution_count": 7,
     "metadata": {},
     "output_type": "execute_result"
    }
   ],
   "source": [
    "df.head()"
   ]
  },
  {
   "cell_type": "code",
   "execution_count": 8,
   "id": "ec61f306-02ac-4481-9752-ded54757f6db",
   "metadata": {},
   "outputs": [],
   "source": [
    "df.drop(columns = ['Email','Phone','Address','City'],axis=1,inplace=True)"
   ]
  },
  {
   "cell_type": "code",
   "execution_count": 9,
   "id": "7f73c9ad-0c17-4018-8bbb-6cd56f38122c",
   "metadata": {},
   "outputs": [
    {
     "data": {
      "text/html": [
       "<div>\n",
       "<style scoped>\n",
       "    .dataframe tbody tr th:only-of-type {\n",
       "        vertical-align: middle;\n",
       "    }\n",
       "\n",
       "    .dataframe tbody tr th {\n",
       "        vertical-align: top;\n",
       "    }\n",
       "\n",
       "    .dataframe thead th {\n",
       "        text-align: right;\n",
       "    }\n",
       "</style>\n",
       "<table border=\"1\" class=\"dataframe\">\n",
       "  <thead>\n",
       "    <tr style=\"text-align: right;\">\n",
       "      <th></th>\n",
       "      <th>Customer_Id</th>\n",
       "      <th>First_Name</th>\n",
       "      <th>Last_Name</th>\n",
       "      <th>Country</th>\n",
       "      <th>Registration_Date</th>\n",
       "    </tr>\n",
       "  </thead>\n",
       "  <tbody>\n",
       "    <tr>\n",
       "      <th>0</th>\n",
       "      <td>C001</td>\n",
       "      <td>Ali</td>\n",
       "      <td>??</td>\n",
       "      <td>NaN</td>\n",
       "      <td>2024-01-15</td>\n",
       "    </tr>\n",
       "    <tr>\n",
       "      <th>1</th>\n",
       "      <td>C002</td>\n",
       "      <td>??</td>\n",
       "      <td>NaN</td>\n",
       "      <td>Japan</td>\n",
       "      <td>2024-05-12</td>\n",
       "    </tr>\n",
       "    <tr>\n",
       "      <th>2</th>\n",
       "      <td>C003</td>\n",
       "      <td></td>\n",
       "      <td>??</td>\n",
       "      <td>??</td>\n",
       "      <td>2024-02-28</td>\n",
       "    </tr>\n",
       "    <tr>\n",
       "      <th>3</th>\n",
       "      <td>C004</td>\n",
       "      <td>Omar</td>\n",
       "      <td>??</td>\n",
       "      <td>France</td>\n",
       "      <td>2024-01-15</td>\n",
       "    </tr>\n",
       "    <tr>\n",
       "      <th>4</th>\n",
       "      <td>C005</td>\n",
       "      <td>Sara</td>\n",
       "      <td>Moh#med</td>\n",
       "      <td>France</td>\n",
       "      <td>NaN</td>\n",
       "    </tr>\n",
       "  </tbody>\n",
       "</table>\n",
       "</div>"
      ],
      "text/plain": [
       "  Customer_Id First_Name Last_Name Country Registration_Date\n",
       "0        C001        Ali        ??     NaN        2024-01-15\n",
       "1        C002         ??       NaN   Japan        2024-05-12\n",
       "2        C003                   ??      ??        2024-02-28\n",
       "3        C004       Omar        ??  France        2024-01-15\n",
       "4        C005       Sara   Moh#med  France               NaN"
      ]
     },
     "execution_count": 9,
     "metadata": {},
     "output_type": "execute_result"
    }
   ],
   "source": [
    "df.head()"
   ]
  },
  {
   "cell_type": "code",
   "execution_count": 10,
   "id": "78ad5ec7-5faa-42b9-9483-210de20bfb52",
   "metadata": {},
   "outputs": [
    {
     "name": "stdout",
     "output_type": "stream",
     "text": [
      "<class 'pandas.core.frame.DataFrame'>\n",
      "RangeIndex: 100 entries, 0 to 99\n",
      "Data columns (total 5 columns):\n",
      " #   Column             Non-Null Count  Dtype \n",
      "---  ------             --------------  ----- \n",
      " 0   Customer_Id        96 non-null     object\n",
      " 1   First_Name         94 non-null     object\n",
      " 2   Last_Name          86 non-null     object\n",
      " 3   Country            80 non-null     object\n",
      " 4   Registration_Date  94 non-null     object\n",
      "dtypes: object(5)\n",
      "memory usage: 4.0+ KB\n"
     ]
    }
   ],
   "source": [
    "df.info()"
   ]
  },
  {
   "cell_type": "markdown",
   "id": "bd2fa832-1814-4c0a-9c03-7de5e15b9f57",
   "metadata": {},
   "source": [
    "## Data Prepocessing"
   ]
  },
  {
   "cell_type": "code",
   "execution_count": 12,
   "id": "2299fdee-7c50-454a-9fad-db4b78d58fc8",
   "metadata": {},
   "outputs": [
    {
     "data": {
      "text/plain": [
       "Customer_Id           4\n",
       "First_Name            6\n",
       "Last_Name            14\n",
       "Country              20\n",
       "Registration_Date     6\n",
       "dtype: int64"
      ]
     },
     "execution_count": 12,
     "metadata": {},
     "output_type": "execute_result"
    }
   ],
   "source": [
    "# checking nulls\n",
    "df.isna().sum()"
   ]
  },
  {
   "cell_type": "code",
   "execution_count": 13,
   "id": "33d521be-cef3-4ab1-837a-670b3a40ff58",
   "metadata": {},
   "outputs": [
    {
     "data": {
      "text/html": [
       "<div>\n",
       "<style scoped>\n",
       "    .dataframe tbody tr th:only-of-type {\n",
       "        vertical-align: middle;\n",
       "    }\n",
       "\n",
       "    .dataframe tbody tr th {\n",
       "        vertical-align: top;\n",
       "    }\n",
       "\n",
       "    .dataframe thead th {\n",
       "        text-align: right;\n",
       "    }\n",
       "</style>\n",
       "<table border=\"1\" class=\"dataframe\">\n",
       "  <thead>\n",
       "    <tr style=\"text-align: right;\">\n",
       "      <th></th>\n",
       "      <th>Customer_Id</th>\n",
       "      <th>First_Name</th>\n",
       "      <th>Last_Name</th>\n",
       "      <th>Country</th>\n",
       "      <th>Registration_Date</th>\n",
       "    </tr>\n",
       "  </thead>\n",
       "  <tbody>\n",
       "    <tr>\n",
       "      <th>11</th>\n",
       "      <td>C012</td>\n",
       "      <td>NaN</td>\n",
       "      <td></td>\n",
       "      <td>Japan</td>\n",
       "      <td>2025/15/01</td>\n",
       "    </tr>\n",
       "    <tr>\n",
       "      <th>16</th>\n",
       "      <td>C017</td>\n",
       "      <td>NaN</td>\n",
       "      <td>Liu</td>\n",
       "      <td>NaN</td>\n",
       "      <td>not_a_date</td>\n",
       "    </tr>\n",
       "    <tr>\n",
       "      <th>48</th>\n",
       "      <td>C049</td>\n",
       "      <td>NaN</td>\n",
       "      <td>Jane</td>\n",
       "      <td>Egypt</td>\n",
       "      <td>15-01-2025</td>\n",
       "    </tr>\n",
       "    <tr>\n",
       "      <th>86</th>\n",
       "      <td>C087</td>\n",
       "      <td>NaN</td>\n",
       "      <td>NaN</td>\n",
       "      <td>NaN</td>\n",
       "      <td>2024-01-15</td>\n",
       "    </tr>\n",
       "    <tr>\n",
       "      <th>96</th>\n",
       "      <td>C097</td>\n",
       "      <td>NaN</td>\n",
       "      <td>Liu</td>\n",
       "      <td>NaN</td>\n",
       "      <td>2024-02-28</td>\n",
       "    </tr>\n",
       "    <tr>\n",
       "      <th>97</th>\n",
       "      <td>C098</td>\n",
       "      <td>NaN</td>\n",
       "      <td>Sara</td>\n",
       "      <td>??</td>\n",
       "      <td>2024-05-12</td>\n",
       "    </tr>\n",
       "  </tbody>\n",
       "</table>\n",
       "</div>"
      ],
      "text/plain": [
       "   Customer_Id First_Name Last_Name Country Registration_Date\n",
       "11        C012        NaN             Japan        2025/15/01\n",
       "16        C017        NaN       Liu     NaN        not_a_date\n",
       "48        C049        NaN      Jane   Egypt        15-01-2025\n",
       "86        C087        NaN       NaN     NaN        2024-01-15\n",
       "96        C097        NaN       Liu     NaN        2024-02-28\n",
       "97        C098        NaN      Sara      ??        2024-05-12"
      ]
     },
     "execution_count": 13,
     "metadata": {},
     "output_type": "execute_result"
    }
   ],
   "source": [
    "df[df['First_Name'].isnull() == 1]"
   ]
  },
  {
   "cell_type": "code",
   "execution_count": 14,
   "id": "361cf863-d68e-4bab-93de-72ec96caf557",
   "metadata": {},
   "outputs": [
    {
     "data": {
      "text/plain": [
       "First_Name\n",
       "Liu        15\n",
       "Ali        12\n",
       "Lea        10\n",
       "Anna@      10\n",
       "Jane        9\n",
       "Moh#med     8\n",
       "??          7\n",
       "            7\n",
       "John        7\n",
       "Sara        5\n",
       "Omar        4\n",
       "Name: count, dtype: int64"
      ]
     },
     "execution_count": 14,
     "metadata": {},
     "output_type": "execute_result"
    }
   ],
   "source": [
    "df['First_Name'].value_counts()"
   ]
  },
  {
   "cell_type": "code",
   "execution_count": 15,
   "id": "9e560c8e-7a59-4705-bef3-c4fa814318d9",
   "metadata": {},
   "outputs": [
    {
     "data": {
      "text/plain": [
       "First_Name\n",
       "Liu        15\n",
       "Ali        12\n",
       "Lea        10\n",
       "Anna@      10\n",
       "Jane        9\n",
       "Moh#med     8\n",
       "??          7\n",
       "            7\n",
       "John        7\n",
       "Sara        5\n",
       "Omar        4\n",
       "Name: count, dtype: int64"
      ]
     },
     "execution_count": 15,
     "metadata": {},
     "output_type": "execute_result"
    }
   ],
   "source": [
    "df['First_Name'].value_counts()"
   ]
  },
  {
   "cell_type": "code",
   "execution_count": 16,
   "id": "2a24c0bc-919a-44ac-a542-4584b7acfc80",
   "metadata": {},
   "outputs": [
    {
     "name": "stderr",
     "output_type": "stream",
     "text": [
      "C:\\Users\\7520\\AppData\\Local\\Temp\\ipykernel_820\\4062191418.py:1: FutureWarning: A value is trying to be set on a copy of a DataFrame or Series through chained assignment using an inplace method.\n",
      "The behavior will change in pandas 3.0. This inplace method will never work because the intermediate object on which we are setting values always behaves as a copy.\n",
      "\n",
      "For example, when doing 'df[col].method(value, inplace=True)', try using 'df.method({col: value}, inplace=True)' or df[col] = df[col].method(value) instead, to perform the operation inplace on the original object.\n",
      "\n",
      "\n",
      "  df['First_Name'].fillna('Unknown', inplace=True)\n"
     ]
    }
   ],
   "source": [
    "df['First_Name'].fillna('Unknown', inplace=True)"
   ]
  },
  {
   "cell_type": "code",
   "execution_count": 17,
   "id": "410c6cc8-f59b-40e2-a34f-d3d01cf32441",
   "metadata": {},
   "outputs": [
    {
     "data": {
      "text/plain": [
       "First_Name\n",
       "Liu        15\n",
       "Ali        12\n",
       "Lea        10\n",
       "Anna@      10\n",
       "Jane        9\n",
       "Moh#med     8\n",
       "??          7\n",
       "            7\n",
       "John        7\n",
       "Unknown     6\n",
       "Sara        5\n",
       "Omar        4\n",
       "Name: count, dtype: int64"
      ]
     },
     "execution_count": 17,
     "metadata": {},
     "output_type": "execute_result"
    }
   ],
   "source": [
    "df['First_Name'].value_counts()"
   ]
  },
  {
   "cell_type": "code",
   "execution_count": 18,
   "id": "77a712e1-2638-4f77-a297-b56005a8733a",
   "metadata": {},
   "outputs": [],
   "source": [
    "df['First_Name'] = df['First_Name'].str.replace(' ','Unknown',regex=True)"
   ]
  },
  {
   "cell_type": "code",
   "execution_count": 19,
   "id": "f939bbf8-9f06-4b8e-af18-c9144b25fc4c",
   "metadata": {},
   "outputs": [
    {
     "data": {
      "text/plain": [
       "First_Name\n",
       "Liu        15\n",
       "Unknown    13\n",
       "Ali        12\n",
       "Lea        10\n",
       "Anna@      10\n",
       "Jane        9\n",
       "Moh#med     8\n",
       "??          7\n",
       "John        7\n",
       "Sara        5\n",
       "Omar        4\n",
       "Name: count, dtype: int64"
      ]
     },
     "execution_count": 19,
     "metadata": {},
     "output_type": "execute_result"
    }
   ],
   "source": [
    "df['First_Name'].value_counts()"
   ]
  },
  {
   "cell_type": "code",
   "execution_count": 20,
   "id": "e8d45bd4-7490-438e-8a97-f9b7a306dfa4",
   "metadata": {},
   "outputs": [],
   "source": [
    "df['First_Name'] = df['First_Name'].str.replace('#','a',regex=True)"
   ]
  },
  {
   "cell_type": "code",
   "execution_count": 21,
   "id": "4550bfe0-1b2e-4fb6-8489-eb81ba456314",
   "metadata": {},
   "outputs": [],
   "source": [
    "df['First_Name'] = df['First_Name'].str.replace('@',' ',regex=True)"
   ]
  },
  {
   "cell_type": "code",
   "execution_count": 22,
   "id": "48ba0a89-be63-485d-97ac-bb8982655d3f",
   "metadata": {},
   "outputs": [],
   "source": [
    "df['First_Name'] = df['First_Name'].str.replace(r'[^a-zA-Z\\s]', 'Unknown', regex=True)"
   ]
  },
  {
   "cell_type": "code",
   "execution_count": 23,
   "id": "8d1d0745-28e3-446a-abee-d139ab24f274",
   "metadata": {},
   "outputs": [
    {
     "data": {
      "text/plain": [
       "First_Name\n",
       "Liu               15\n",
       "Unknown           13\n",
       "Ali               12\n",
       "Lea               10\n",
       "Anna              10\n",
       "Jane               9\n",
       "Mohamed            8\n",
       "UnknownUnknown     7\n",
       "John               7\n",
       "Sara               5\n",
       "Omar               4\n",
       "Name: count, dtype: int64"
      ]
     },
     "execution_count": 23,
     "metadata": {},
     "output_type": "execute_result"
    }
   ],
   "source": [
    "df['First_Name'].value_counts()"
   ]
  },
  {
   "cell_type": "code",
   "execution_count": 24,
   "id": "65691742-03d6-4ad7-8a65-502edde0630e",
   "metadata": {},
   "outputs": [],
   "source": [
    "df['First_Name']= df['First_Name'].str.replace('UnknownUnknown','Unknown',regex=True)"
   ]
  },
  {
   "cell_type": "code",
   "execution_count": 25,
   "id": "85e31671-50cc-4ecc-a626-177c1f1827e8",
   "metadata": {},
   "outputs": [
    {
     "data": {
      "text/plain": [
       "First_Name\n",
       "Unknown    20\n",
       "Liu        15\n",
       "Ali        12\n",
       "Lea        10\n",
       "Anna       10\n",
       "Jane        9\n",
       "Mohamed     8\n",
       "John        7\n",
       "Sara        5\n",
       "Omar        4\n",
       "Name: count, dtype: int64"
      ]
     },
     "execution_count": 25,
     "metadata": {},
     "output_type": "execute_result"
    }
   ],
   "source": [
    "df['First_Name'].value_counts()"
   ]
  },
  {
   "cell_type": "code",
   "execution_count": 26,
   "id": "39d7a1d8-e5b1-43b3-89b7-601f09475abf",
   "metadata": {},
   "outputs": [
    {
     "data": {
      "text/plain": [
       "Last_Name\n",
       "Moh#med    12\n",
       "           11\n",
       "Lea        10\n",
       "Jane        9\n",
       "??          8\n",
       "Sara        8\n",
       "Anna@       7\n",
       "Liu         6\n",
       "Omar        5\n",
       "Ali         5\n",
       "John        5\n",
       "Name: count, dtype: int64"
      ]
     },
     "execution_count": 26,
     "metadata": {},
     "output_type": "execute_result"
    }
   ],
   "source": [
    "df['Last_Name'].value_counts()"
   ]
  },
  {
   "cell_type": "code",
   "execution_count": 27,
   "id": "f8b99ec6-cb55-46e9-9cf0-1071ccb10274",
   "metadata": {},
   "outputs": [],
   "source": [
    "df['Last_Name'] = df['Last_Name'].str.replace('#','a',regex=True)\n",
    "df['Last_Name'] = df['Last_Name'].str.replace('@',' ',regex=True)"
   ]
  },
  {
   "cell_type": "code",
   "execution_count": 28,
   "id": "abb4b9d9-7877-4dc8-8cd2-e882636a84e1",
   "metadata": {},
   "outputs": [
    {
     "data": {
      "text/plain": [
       "Last_Name\n",
       "Mohamed    12\n",
       "           11\n",
       "Lea        10\n",
       "Jane        9\n",
       "??          8\n",
       "Sara        8\n",
       "Anna        7\n",
       "Liu         6\n",
       "Omar        5\n",
       "Ali         5\n",
       "John        5\n",
       "Name: count, dtype: int64"
      ]
     },
     "execution_count": 28,
     "metadata": {},
     "output_type": "execute_result"
    }
   ],
   "source": [
    "df['Last_Name'].value_counts()"
   ]
  },
  {
   "cell_type": "code",
   "execution_count": 29,
   "id": "ac10ad6e-eccd-4579-85ac-88f1889e8405",
   "metadata": {},
   "outputs": [],
   "source": [
    "df['Last_Name'] = df['Last_Name'].str.strip().replace(['', '??'], 'Unknown')\n",
    "df['Last_Name'] = df['Last_Name'].fillna('Unknown')\n"
   ]
  },
  {
   "cell_type": "code",
   "execution_count": 30,
   "id": "88387f19-37b0-43f2-9f6a-750d73928c05",
   "metadata": {},
   "outputs": [
    {
     "data": {
      "text/html": [
       "<div>\n",
       "<style scoped>\n",
       "    .dataframe tbody tr th:only-of-type {\n",
       "        vertical-align: middle;\n",
       "    }\n",
       "\n",
       "    .dataframe tbody tr th {\n",
       "        vertical-align: top;\n",
       "    }\n",
       "\n",
       "    .dataframe thead th {\n",
       "        text-align: right;\n",
       "    }\n",
       "</style>\n",
       "<table border=\"1\" class=\"dataframe\">\n",
       "  <thead>\n",
       "    <tr style=\"text-align: right;\">\n",
       "      <th></th>\n",
       "      <th>Customer_Id</th>\n",
       "      <th>First_Name</th>\n",
       "      <th>Last_Name</th>\n",
       "      <th>Country</th>\n",
       "      <th>Registration_Date</th>\n",
       "    </tr>\n",
       "  </thead>\n",
       "  <tbody>\n",
       "    <tr>\n",
       "      <th>0</th>\n",
       "      <td>C001</td>\n",
       "      <td>Ali</td>\n",
       "      <td>Unknown</td>\n",
       "      <td>NaN</td>\n",
       "      <td>2024-01-15</td>\n",
       "    </tr>\n",
       "    <tr>\n",
       "      <th>1</th>\n",
       "      <td>C002</td>\n",
       "      <td>Unknown</td>\n",
       "      <td>Unknown</td>\n",
       "      <td>Japan</td>\n",
       "      <td>2024-05-12</td>\n",
       "    </tr>\n",
       "    <tr>\n",
       "      <th>2</th>\n",
       "      <td>C003</td>\n",
       "      <td>Unknown</td>\n",
       "      <td>Unknown</td>\n",
       "      <td>??</td>\n",
       "      <td>2024-02-28</td>\n",
       "    </tr>\n",
       "    <tr>\n",
       "      <th>3</th>\n",
       "      <td>C004</td>\n",
       "      <td>Omar</td>\n",
       "      <td>Unknown</td>\n",
       "      <td>France</td>\n",
       "      <td>2024-01-15</td>\n",
       "    </tr>\n",
       "    <tr>\n",
       "      <th>4</th>\n",
       "      <td>C005</td>\n",
       "      <td>Sara</td>\n",
       "      <td>Mohamed</td>\n",
       "      <td>France</td>\n",
       "      <td>NaN</td>\n",
       "    </tr>\n",
       "    <tr>\n",
       "      <th>...</th>\n",
       "      <td>...</td>\n",
       "      <td>...</td>\n",
       "      <td>...</td>\n",
       "      <td>...</td>\n",
       "      <td>...</td>\n",
       "    </tr>\n",
       "    <tr>\n",
       "      <th>95</th>\n",
       "      <td>C096</td>\n",
       "      <td>Unknown</td>\n",
       "      <td>Unknown</td>\n",
       "      <td>Egypt</td>\n",
       "      <td>2024-05-12</td>\n",
       "    </tr>\n",
       "    <tr>\n",
       "      <th>96</th>\n",
       "      <td>C097</td>\n",
       "      <td>Unknown</td>\n",
       "      <td>Liu</td>\n",
       "      <td>NaN</td>\n",
       "      <td>2024-02-28</td>\n",
       "    </tr>\n",
       "    <tr>\n",
       "      <th>97</th>\n",
       "      <td>C098</td>\n",
       "      <td>Unknown</td>\n",
       "      <td>Sara</td>\n",
       "      <td>??</td>\n",
       "      <td>2024-05-12</td>\n",
       "    </tr>\n",
       "    <tr>\n",
       "      <th>98</th>\n",
       "      <td>C099</td>\n",
       "      <td>Sara</td>\n",
       "      <td>John</td>\n",
       "      <td>UK</td>\n",
       "      <td>15-01-2025</td>\n",
       "    </tr>\n",
       "    <tr>\n",
       "      <th>99</th>\n",
       "      <td>C100</td>\n",
       "      <td>Liu</td>\n",
       "      <td>Mohamed</td>\n",
       "      <td>USA</td>\n",
       "      <td>2024/12/05</td>\n",
       "    </tr>\n",
       "  </tbody>\n",
       "</table>\n",
       "<p>100 rows × 5 columns</p>\n",
       "</div>"
      ],
      "text/plain": [
       "   Customer_Id First_Name Last_Name Country Registration_Date\n",
       "0         C001        Ali   Unknown     NaN        2024-01-15\n",
       "1         C002    Unknown   Unknown   Japan        2024-05-12\n",
       "2         C003    Unknown   Unknown      ??        2024-02-28\n",
       "3         C004       Omar   Unknown  France        2024-01-15\n",
       "4         C005       Sara   Mohamed  France               NaN\n",
       "..         ...        ...       ...     ...               ...\n",
       "95        C096    Unknown   Unknown   Egypt        2024-05-12\n",
       "96        C097    Unknown       Liu     NaN        2024-02-28\n",
       "97        C098    Unknown      Sara      ??        2024-05-12\n",
       "98        C099       Sara      John      UK        15-01-2025\n",
       "99        C100        Liu   Mohamed     USA        2024/12/05\n",
       "\n",
       "[100 rows x 5 columns]"
      ]
     },
     "execution_count": 30,
     "metadata": {},
     "output_type": "execute_result"
    }
   ],
   "source": [
    "df"
   ]
  },
  {
   "cell_type": "code",
   "execution_count": 31,
   "id": "f6bb0fe3-b1e2-4f41-9a01-215e60de366c",
   "metadata": {},
   "outputs": [
    {
     "data": {
      "text/plain": [
       "Country\n",
       "France    16\n",
       "Japan     15\n",
       "??        13\n",
       "UK        13\n",
       "Egypt     13\n",
       "USA       10\n",
       "Name: count, dtype: int64"
      ]
     },
     "execution_count": 31,
     "metadata": {},
     "output_type": "execute_result"
    }
   ],
   "source": [
    "df['Country'].value_counts()"
   ]
  },
  {
   "cell_type": "code",
   "execution_count": 32,
   "id": "01d8a1a8-fae4-4a9a-9016-b9063ae3d339",
   "metadata": {},
   "outputs": [],
   "source": [
    "df['Country'] = df['Country'].str.replace(r'[^a-zA-Z\\s]', 'Unknown', regex=True)"
   ]
  },
  {
   "cell_type": "code",
   "execution_count": 33,
   "id": "5adc5208-5305-4b13-a00c-fd3982e30ba9",
   "metadata": {},
   "outputs": [],
   "source": [
    "df['Country'] = df['Country'].str.replace('UnknownUnknown','Unknown',regex=True)"
   ]
  },
  {
   "cell_type": "code",
   "execution_count": 34,
   "id": "613bf90b-d287-452f-b824-5cde11949e1a",
   "metadata": {},
   "outputs": [],
   "source": [
    "df['Country'] = df['Country'].str.replace('UK','United Kingdom',regex=True)"
   ]
  },
  {
   "cell_type": "code",
   "execution_count": 35,
   "id": "e9c17761-0fc4-4207-b3db-a12e969faa0a",
   "metadata": {},
   "outputs": [],
   "source": [
    "df['Country'] = df['Country'].str.replace('USA','United States',regex=True)"
   ]
  },
  {
   "cell_type": "code",
   "execution_count": 36,
   "id": "662a89e0-b673-44f9-98de-8ac84fdefe0f",
   "metadata": {},
   "outputs": [],
   "source": [
    "df['Country']=df['Country'].fillna('Unknown')"
   ]
  },
  {
   "cell_type": "code",
   "execution_count": 37,
   "id": "5fbdadf9-11f1-4b0e-a707-d36837523a0b",
   "metadata": {},
   "outputs": [
    {
     "data": {
      "text/plain": [
       "Country\n",
       "Unknown           33\n",
       "France            16\n",
       "Japan             15\n",
       "United Kingdom    13\n",
       "Egypt             13\n",
       "United States     10\n",
       "Name: count, dtype: int64"
      ]
     },
     "execution_count": 37,
     "metadata": {},
     "output_type": "execute_result"
    }
   ],
   "source": [
    "df['Country'].value_counts()"
   ]
  },
  {
   "cell_type": "code",
   "execution_count": 38,
   "id": "0c940912-dc30-4d5a-955d-6fa110c80dcf",
   "metadata": {},
   "outputs": [
    {
     "data": {
      "text/plain": [
       "Registration_Date\n",
       "2024-02-28    14\n",
       "not_a_date    13\n",
       "2024-05-12    12\n",
       "2024/12/05    12\n",
       "15-01-2025    12\n",
       "2025/15/01     9\n",
       "2024-01-15     8\n",
       "32-13-2025     8\n",
       "2024-07-21     6\n",
       "Name: count, dtype: int64"
      ]
     },
     "execution_count": 38,
     "metadata": {},
     "output_type": "execute_result"
    }
   ],
   "source": [
    "df['Registration_Date'].value_counts()"
   ]
  },
  {
   "cell_type": "code",
   "execution_count": 40,
   "id": "0660a96c-d597-46d7-aabf-5bc32627e678",
   "metadata": {},
   "outputs": [
    {
     "name": "stderr",
     "output_type": "stream",
     "text": [
      "C:\\Users\\7520\\AppData\\Local\\Temp\\ipykernel_820\\1097839120.py:1: UserWarning: Parsing dates in %Y-%m-%d format when dayfirst=True was specified. Pass `dayfirst=False` or specify a format to silence this warning.\n",
      "  df[\"Registration_Date\"] = pd.to_datetime(df[\"Registration_Date\"], errors=\"coerce\", dayfirst=True)\n"
     ]
    }
   ],
   "source": [
    "df[\"Registration_Date\"] = pd.to_datetime(df[\"Registration_Date\"], errors=\"coerce\", dayfirst=True)\n",
    "df[\"Registration_Date\"] = df[\"Registration_Date\"].dt.strftime(\"%m/%d/%Y\")\n",
    "\n"
   ]
  },
  {
   "cell_type": "code",
   "execution_count": 42,
   "id": "e80084fd-7b58-4078-bfd8-7326daf89bac",
   "metadata": {},
   "outputs": [
    {
     "data": {
      "text/plain": [
       "Registration_Date\n",
       "02/28/2024    14\n",
       "05/12/2024    12\n",
       "01/15/2024     8\n",
       "07/21/2024     6\n",
       "Name: count, dtype: int64"
      ]
     },
     "execution_count": 42,
     "metadata": {},
     "output_type": "execute_result"
    }
   ],
   "source": [
    "df['Registration_Date'].value_counts()"
   ]
  },
  {
   "cell_type": "code",
   "execution_count": 44,
   "id": "760a1335-fb34-4b3e-9cee-28bc6000f0d3",
   "metadata": {},
   "outputs": [
    {
     "data": {
      "text/html": [
       "<div>\n",
       "<style scoped>\n",
       "    .dataframe tbody tr th:only-of-type {\n",
       "        vertical-align: middle;\n",
       "    }\n",
       "\n",
       "    .dataframe tbody tr th {\n",
       "        vertical-align: top;\n",
       "    }\n",
       "\n",
       "    .dataframe thead th {\n",
       "        text-align: right;\n",
       "    }\n",
       "</style>\n",
       "<table border=\"1\" class=\"dataframe\">\n",
       "  <thead>\n",
       "    <tr style=\"text-align: right;\">\n",
       "      <th></th>\n",
       "      <th>Customer_Id</th>\n",
       "      <th>First_Name</th>\n",
       "      <th>Last_Name</th>\n",
       "      <th>Country</th>\n",
       "      <th>Registration_Date</th>\n",
       "    </tr>\n",
       "  </thead>\n",
       "  <tbody>\n",
       "    <tr>\n",
       "      <th>0</th>\n",
       "      <td>C001</td>\n",
       "      <td>Ali</td>\n",
       "      <td>Unknown</td>\n",
       "      <td>Unknown</td>\n",
       "      <td>01/15/2024</td>\n",
       "    </tr>\n",
       "    <tr>\n",
       "      <th>1</th>\n",
       "      <td>C002</td>\n",
       "      <td>Unknown</td>\n",
       "      <td>Unknown</td>\n",
       "      <td>Japan</td>\n",
       "      <td>05/12/2024</td>\n",
       "    </tr>\n",
       "    <tr>\n",
       "      <th>2</th>\n",
       "      <td>C003</td>\n",
       "      <td>Unknown</td>\n",
       "      <td>Unknown</td>\n",
       "      <td>Unknown</td>\n",
       "      <td>02/28/2024</td>\n",
       "    </tr>\n",
       "    <tr>\n",
       "      <th>3</th>\n",
       "      <td>C004</td>\n",
       "      <td>Omar</td>\n",
       "      <td>Unknown</td>\n",
       "      <td>France</td>\n",
       "      <td>01/15/2024</td>\n",
       "    </tr>\n",
       "    <tr>\n",
       "      <th>4</th>\n",
       "      <td>C005</td>\n",
       "      <td>Sara</td>\n",
       "      <td>Mohamed</td>\n",
       "      <td>France</td>\n",
       "      <td>NaN</td>\n",
       "    </tr>\n",
       "    <tr>\n",
       "      <th>...</th>\n",
       "      <td>...</td>\n",
       "      <td>...</td>\n",
       "      <td>...</td>\n",
       "      <td>...</td>\n",
       "      <td>...</td>\n",
       "    </tr>\n",
       "    <tr>\n",
       "      <th>95</th>\n",
       "      <td>C096</td>\n",
       "      <td>Unknown</td>\n",
       "      <td>Unknown</td>\n",
       "      <td>Egypt</td>\n",
       "      <td>05/12/2024</td>\n",
       "    </tr>\n",
       "    <tr>\n",
       "      <th>96</th>\n",
       "      <td>C097</td>\n",
       "      <td>Unknown</td>\n",
       "      <td>Liu</td>\n",
       "      <td>Unknown</td>\n",
       "      <td>02/28/2024</td>\n",
       "    </tr>\n",
       "    <tr>\n",
       "      <th>97</th>\n",
       "      <td>C098</td>\n",
       "      <td>Unknown</td>\n",
       "      <td>Sara</td>\n",
       "      <td>Unknown</td>\n",
       "      <td>05/12/2024</td>\n",
       "    </tr>\n",
       "    <tr>\n",
       "      <th>98</th>\n",
       "      <td>C099</td>\n",
       "      <td>Sara</td>\n",
       "      <td>John</td>\n",
       "      <td>United Kingdom</td>\n",
       "      <td>NaN</td>\n",
       "    </tr>\n",
       "    <tr>\n",
       "      <th>99</th>\n",
       "      <td>C100</td>\n",
       "      <td>Liu</td>\n",
       "      <td>Mohamed</td>\n",
       "      <td>United States</td>\n",
       "      <td>NaN</td>\n",
       "    </tr>\n",
       "  </tbody>\n",
       "</table>\n",
       "<p>100 rows × 5 columns</p>\n",
       "</div>"
      ],
      "text/plain": [
       "   Customer_Id First_Name Last_Name         Country Registration_Date\n",
       "0         C001        Ali   Unknown         Unknown        01/15/2024\n",
       "1         C002    Unknown   Unknown           Japan        05/12/2024\n",
       "2         C003    Unknown   Unknown         Unknown        02/28/2024\n",
       "3         C004       Omar   Unknown          France        01/15/2024\n",
       "4         C005       Sara   Mohamed          France               NaN\n",
       "..         ...        ...       ...             ...               ...\n",
       "95        C096    Unknown   Unknown           Egypt        05/12/2024\n",
       "96        C097    Unknown       Liu         Unknown        02/28/2024\n",
       "97        C098    Unknown      Sara         Unknown        05/12/2024\n",
       "98        C099       Sara      John  United Kingdom               NaN\n",
       "99        C100        Liu   Mohamed   United States               NaN\n",
       "\n",
       "[100 rows x 5 columns]"
      ]
     },
     "execution_count": 44,
     "metadata": {},
     "output_type": "execute_result"
    }
   ],
   "source": [
    "df"
   ]
  },
  {
   "cell_type": "code",
   "execution_count": 46,
   "id": "ddc87c9d-27d4-4867-99dc-9036f66a4339",
   "metadata": {},
   "outputs": [],
   "source": [
    "df[\"Registration_Date\"] = df[\"Registration_Date\"].fillna(\"2024/02/28\")\n"
   ]
  },
  {
   "cell_type": "code",
   "execution_count": 48,
   "id": "9f81fed7-629e-44f8-8f83-a83807ecaa78",
   "metadata": {},
   "outputs": [
    {
     "data": {
      "text/html": [
       "<div>\n",
       "<style scoped>\n",
       "    .dataframe tbody tr th:only-of-type {\n",
       "        vertical-align: middle;\n",
       "    }\n",
       "\n",
       "    .dataframe tbody tr th {\n",
       "        vertical-align: top;\n",
       "    }\n",
       "\n",
       "    .dataframe thead th {\n",
       "        text-align: right;\n",
       "    }\n",
       "</style>\n",
       "<table border=\"1\" class=\"dataframe\">\n",
       "  <thead>\n",
       "    <tr style=\"text-align: right;\">\n",
       "      <th></th>\n",
       "      <th>Customer_Id</th>\n",
       "      <th>First_Name</th>\n",
       "      <th>Last_Name</th>\n",
       "      <th>Country</th>\n",
       "      <th>Registration_Date</th>\n",
       "    </tr>\n",
       "  </thead>\n",
       "  <tbody>\n",
       "    <tr>\n",
       "      <th>0</th>\n",
       "      <td>C001</td>\n",
       "      <td>Ali</td>\n",
       "      <td>Unknown</td>\n",
       "      <td>Unknown</td>\n",
       "      <td>01/15/2024</td>\n",
       "    </tr>\n",
       "    <tr>\n",
       "      <th>1</th>\n",
       "      <td>C002</td>\n",
       "      <td>Unknown</td>\n",
       "      <td>Unknown</td>\n",
       "      <td>Japan</td>\n",
       "      <td>05/12/2024</td>\n",
       "    </tr>\n",
       "    <tr>\n",
       "      <th>2</th>\n",
       "      <td>C003</td>\n",
       "      <td>Unknown</td>\n",
       "      <td>Unknown</td>\n",
       "      <td>Unknown</td>\n",
       "      <td>02/28/2024</td>\n",
       "    </tr>\n",
       "    <tr>\n",
       "      <th>3</th>\n",
       "      <td>C004</td>\n",
       "      <td>Omar</td>\n",
       "      <td>Unknown</td>\n",
       "      <td>France</td>\n",
       "      <td>01/15/2024</td>\n",
       "    </tr>\n",
       "    <tr>\n",
       "      <th>4</th>\n",
       "      <td>C005</td>\n",
       "      <td>Sara</td>\n",
       "      <td>Mohamed</td>\n",
       "      <td>France</td>\n",
       "      <td>2024/02/28</td>\n",
       "    </tr>\n",
       "    <tr>\n",
       "      <th>...</th>\n",
       "      <td>...</td>\n",
       "      <td>...</td>\n",
       "      <td>...</td>\n",
       "      <td>...</td>\n",
       "      <td>...</td>\n",
       "    </tr>\n",
       "    <tr>\n",
       "      <th>95</th>\n",
       "      <td>C096</td>\n",
       "      <td>Unknown</td>\n",
       "      <td>Unknown</td>\n",
       "      <td>Egypt</td>\n",
       "      <td>05/12/2024</td>\n",
       "    </tr>\n",
       "    <tr>\n",
       "      <th>96</th>\n",
       "      <td>C097</td>\n",
       "      <td>Unknown</td>\n",
       "      <td>Liu</td>\n",
       "      <td>Unknown</td>\n",
       "      <td>02/28/2024</td>\n",
       "    </tr>\n",
       "    <tr>\n",
       "      <th>97</th>\n",
       "      <td>C098</td>\n",
       "      <td>Unknown</td>\n",
       "      <td>Sara</td>\n",
       "      <td>Unknown</td>\n",
       "      <td>05/12/2024</td>\n",
       "    </tr>\n",
       "    <tr>\n",
       "      <th>98</th>\n",
       "      <td>C099</td>\n",
       "      <td>Sara</td>\n",
       "      <td>John</td>\n",
       "      <td>United Kingdom</td>\n",
       "      <td>2024/02/28</td>\n",
       "    </tr>\n",
       "    <tr>\n",
       "      <th>99</th>\n",
       "      <td>C100</td>\n",
       "      <td>Liu</td>\n",
       "      <td>Mohamed</td>\n",
       "      <td>United States</td>\n",
       "      <td>2024/02/28</td>\n",
       "    </tr>\n",
       "  </tbody>\n",
       "</table>\n",
       "<p>100 rows × 5 columns</p>\n",
       "</div>"
      ],
      "text/plain": [
       "   Customer_Id First_Name Last_Name         Country Registration_Date\n",
       "0         C001        Ali   Unknown         Unknown        01/15/2024\n",
       "1         C002    Unknown   Unknown           Japan        05/12/2024\n",
       "2         C003    Unknown   Unknown         Unknown        02/28/2024\n",
       "3         C004       Omar   Unknown          France        01/15/2024\n",
       "4         C005       Sara   Mohamed          France        2024/02/28\n",
       "..         ...        ...       ...             ...               ...\n",
       "95        C096    Unknown   Unknown           Egypt        05/12/2024\n",
       "96        C097    Unknown       Liu         Unknown        02/28/2024\n",
       "97        C098    Unknown      Sara         Unknown        05/12/2024\n",
       "98        C099       Sara      John  United Kingdom        2024/02/28\n",
       "99        C100        Liu   Mohamed   United States        2024/02/28\n",
       "\n",
       "[100 rows x 5 columns]"
      ]
     },
     "execution_count": 48,
     "metadata": {},
     "output_type": "execute_result"
    }
   ],
   "source": [
    "df"
   ]
  },
  {
   "cell_type": "code",
   "execution_count": 50,
   "id": "866bf86d-99df-4c29-8314-13b14a69a011",
   "metadata": {},
   "outputs": [
    {
     "name": "stdout",
     "output_type": "stream",
     "text": [
      "<class 'pandas.core.frame.DataFrame'>\n",
      "RangeIndex: 100 entries, 0 to 99\n",
      "Data columns (total 5 columns):\n",
      " #   Column             Non-Null Count  Dtype \n",
      "---  ------             --------------  ----- \n",
      " 0   Customer_Id        96 non-null     object\n",
      " 1   First_Name         100 non-null    object\n",
      " 2   Last_Name          100 non-null    object\n",
      " 3   Country            100 non-null    object\n",
      " 4   Registration_Date  100 non-null    object\n",
      "dtypes: object(5)\n",
      "memory usage: 4.0+ KB\n"
     ]
    }
   ],
   "source": [
    "df.info()"
   ]
  },
  {
   "cell_type": "code",
   "execution_count": 52,
   "id": "3792ab03-1b7d-4935-ba87-a302f740b056",
   "metadata": {},
   "outputs": [
    {
     "data": {
      "text/html": [
       "<div>\n",
       "<style scoped>\n",
       "    .dataframe tbody tr th:only-of-type {\n",
       "        vertical-align: middle;\n",
       "    }\n",
       "\n",
       "    .dataframe tbody tr th {\n",
       "        vertical-align: top;\n",
       "    }\n",
       "\n",
       "    .dataframe thead th {\n",
       "        text-align: right;\n",
       "    }\n",
       "</style>\n",
       "<table border=\"1\" class=\"dataframe\">\n",
       "  <thead>\n",
       "    <tr style=\"text-align: right;\">\n",
       "      <th></th>\n",
       "      <th>Customer_Id</th>\n",
       "      <th>First_Name</th>\n",
       "      <th>Last_Name</th>\n",
       "      <th>Country</th>\n",
       "      <th>Registration_Date</th>\n",
       "    </tr>\n",
       "  </thead>\n",
       "  <tbody>\n",
       "    <tr>\n",
       "      <th>0</th>\n",
       "      <td>C001</td>\n",
       "      <td>Ali</td>\n",
       "      <td>Unknown</td>\n",
       "      <td>Unknown</td>\n",
       "      <td>01/15/2024</td>\n",
       "    </tr>\n",
       "    <tr>\n",
       "      <th>1</th>\n",
       "      <td>C002</td>\n",
       "      <td>Unknown</td>\n",
       "      <td>Unknown</td>\n",
       "      <td>Japan</td>\n",
       "      <td>05/12/2024</td>\n",
       "    </tr>\n",
       "    <tr>\n",
       "      <th>2</th>\n",
       "      <td>C003</td>\n",
       "      <td>Unknown</td>\n",
       "      <td>Unknown</td>\n",
       "      <td>Unknown</td>\n",
       "      <td>02/28/2024</td>\n",
       "    </tr>\n",
       "    <tr>\n",
       "      <th>3</th>\n",
       "      <td>C004</td>\n",
       "      <td>Omar</td>\n",
       "      <td>Unknown</td>\n",
       "      <td>France</td>\n",
       "      <td>01/15/2024</td>\n",
       "    </tr>\n",
       "    <tr>\n",
       "      <th>4</th>\n",
       "      <td>C005</td>\n",
       "      <td>Sara</td>\n",
       "      <td>Mohamed</td>\n",
       "      <td>France</td>\n",
       "      <td>2024/02/28</td>\n",
       "    </tr>\n",
       "    <tr>\n",
       "      <th>...</th>\n",
       "      <td>...</td>\n",
       "      <td>...</td>\n",
       "      <td>...</td>\n",
       "      <td>...</td>\n",
       "      <td>...</td>\n",
       "    </tr>\n",
       "    <tr>\n",
       "      <th>95</th>\n",
       "      <td>C096</td>\n",
       "      <td>Unknown</td>\n",
       "      <td>Unknown</td>\n",
       "      <td>Egypt</td>\n",
       "      <td>05/12/2024</td>\n",
       "    </tr>\n",
       "    <tr>\n",
       "      <th>96</th>\n",
       "      <td>C097</td>\n",
       "      <td>Unknown</td>\n",
       "      <td>Liu</td>\n",
       "      <td>Unknown</td>\n",
       "      <td>02/28/2024</td>\n",
       "    </tr>\n",
       "    <tr>\n",
       "      <th>97</th>\n",
       "      <td>C098</td>\n",
       "      <td>Unknown</td>\n",
       "      <td>Sara</td>\n",
       "      <td>Unknown</td>\n",
       "      <td>05/12/2024</td>\n",
       "    </tr>\n",
       "    <tr>\n",
       "      <th>98</th>\n",
       "      <td>C099</td>\n",
       "      <td>Sara</td>\n",
       "      <td>John</td>\n",
       "      <td>United Kingdom</td>\n",
       "      <td>2024/02/28</td>\n",
       "    </tr>\n",
       "    <tr>\n",
       "      <th>99</th>\n",
       "      <td>C100</td>\n",
       "      <td>Liu</td>\n",
       "      <td>Mohamed</td>\n",
       "      <td>United States</td>\n",
       "      <td>2024/02/28</td>\n",
       "    </tr>\n",
       "  </tbody>\n",
       "</table>\n",
       "<p>100 rows × 5 columns</p>\n",
       "</div>"
      ],
      "text/plain": [
       "   Customer_Id First_Name Last_Name         Country Registration_Date\n",
       "0         C001        Ali   Unknown         Unknown        01/15/2024\n",
       "1         C002    Unknown   Unknown           Japan        05/12/2024\n",
       "2         C003    Unknown   Unknown         Unknown        02/28/2024\n",
       "3         C004       Omar   Unknown          France        01/15/2024\n",
       "4         C005       Sara   Mohamed          France        2024/02/28\n",
       "..         ...        ...       ...             ...               ...\n",
       "95        C096    Unknown   Unknown           Egypt        05/12/2024\n",
       "96        C097    Unknown       Liu         Unknown        02/28/2024\n",
       "97        C098    Unknown      Sara         Unknown        05/12/2024\n",
       "98        C099       Sara      John  United Kingdom        2024/02/28\n",
       "99        C100        Liu   Mohamed   United States        2024/02/28\n",
       "\n",
       "[100 rows x 5 columns]"
      ]
     },
     "execution_count": 52,
     "metadata": {},
     "output_type": "execute_result"
    }
   ],
   "source": [
    "df"
   ]
  },
  {
   "cell_type": "code",
   "execution_count": 58,
   "id": "11f4548a-4de6-4c11-8a49-19af869bdcd7",
   "metadata": {},
   "outputs": [
    {
     "name": "stdout",
     "output_type": "stream",
     "text": [
      "<class 'pandas.core.frame.DataFrame'>\n",
      "RangeIndex: 100 entries, 0 to 99\n",
      "Data columns (total 5 columns):\n",
      " #   Column             Non-Null Count  Dtype \n",
      "---  ------             --------------  ----- \n",
      " 0   Customer_Id        96 non-null     object\n",
      " 1   First_Name         100 non-null    object\n",
      " 2   Last_Name          100 non-null    object\n",
      " 3   Country            100 non-null    object\n",
      " 4   Registration_Date  100 non-null    object\n",
      "dtypes: object(5)\n",
      "memory usage: 4.0+ KB\n"
     ]
    }
   ],
   "source": [
    "df.info()"
   ]
  },
  {
   "cell_type": "code",
   "execution_count": 56,
   "id": "ce3fe1f8-5755-405e-a8b0-5ae9aaf55b2d",
   "metadata": {},
   "outputs": [],
   "source": [
    "df.to_excel(r'D:\\NTI\\final_project\\clened_commerce.xlsx', index=False)"
   ]
  },
  {
   "cell_type": "code",
   "execution_count": null,
   "id": "d50b26ac-6bfa-4ee3-bbe6-aae84792ee86",
   "metadata": {},
   "outputs": [],
   "source": []
  }
 ],
 "metadata": {
  "kernelspec": {
   "display_name": "Python [conda env:base] *",
   "language": "python",
   "name": "conda-base-py"
  },
  "language_info": {
   "codemirror_mode": {
    "name": "ipython",
    "version": 3
   },
   "file_extension": ".py",
   "mimetype": "text/x-python",
   "name": "python",
   "nbconvert_exporter": "python",
   "pygments_lexer": "ipython3",
   "version": "3.12.7"
  }
 },
 "nbformat": 4,
 "nbformat_minor": 5
}
